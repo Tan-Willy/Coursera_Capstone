{
    "nbformat_minor": 1, 
    "cells": [
        {
            "source": "# The Battle of the Neighborhoods", 
            "cell_type": "markdown", 
            "metadata": {
                "collapsed": true
            }
        }, 
        {
            "source": "### Introduction", 
            "cell_type": "markdown", 
            "metadata": {}
        }, 
        {
            "source": "People all around the world know the Bronx as the home of the New York Yankees, the Bronx Zoo and the New York Botanical Garden\u2014not to mention as the birthplace of hip-hop. Look deeper and you\u2019ll discover the quaint maritime village of City Island, the cultural attractions of Fordham and Belmont, aka the \u201creal Little Italy,\u201d centered on the restaurants and caf\u00e9s of Arthur Avenue. Grand Concourse, in the South Bronx, is full of art deco marvels.  ", 
            "cell_type": "markdown", 
            "metadata": {}
        }, 
        {
            "source": "### The Problem", 
            "cell_type": "markdown", 
            "metadata": {}
        }, 
        {
            "source": "The Bronx Zoo is a zoo located within Bronx Park in the Bronx, a borough of New York City. It is one of the largest zoos in the United States by area, comprising 265 acres of park lands and naturalistic habitats separated by the Bronx River. On average, the zoo has 2.15 million visitors each year as of 2009. But occasionally, it can be overcrowded.\n\n\"Nice zoo but overcrowded with humans instead of animals.\nZoo is conveniently located close to the westfarm subway station (Line 2 or 5). Plenty of shops/ice-cream vendors/marketplace near the zoo and hence plenty of choice for food before entering the zoo. Inside zoo the Bengal monorail ride was nice and thrilling with great sights. However animals were not much in sight esp lions and tigers. Peacocks/peafowls were nice and photogenic. On wednesdays the place is overcrowded and perhaps why we felt it was too crowded. 4D show was nice and so was the Walking Trail\" Quoted by Laks V.\n", 
            "cell_type": "markdown", 
            "metadata": {}
        }, 
        {
            "source": "### Objective", 
            "cell_type": "markdown", 
            "metadata": {}
        }, 
        {
            "source": "To help people, especially foreign visitors, who are going for a family trip to the zoo or having a vacation in Bronx, New York City.\n\nThere are several zoos in Bronx, so this objective will allow people to know the name and location of the zoo. This objective will based on the nearest zoo from Fordham which is one of the neighborhood in Bronx.", 
            "cell_type": "markdown", 
            "metadata": {}
        }, 
        {
            "source": "", 
            "cell_type": "markdown", 
            "metadata": {}
        }, 
        {
            "source": "", 
            "cell_type": "markdown", 
            "metadata": {}
        }, 
        {
            "source": "", 
            "cell_type": "markdown", 
            "attachments": {}, 
            "metadata": {}
        }, 
        {
            "execution_count": null, 
            "cell_type": "code", 
            "metadata": {}, 
            "outputs": [], 
            "source": ""
        }
    ], 
    "metadata": {
        "kernelspec": {
            "display_name": "Python 3.6", 
            "name": "python3", 
            "language": "python"
        }, 
        "language_info": {
            "mimetype": "text/x-python", 
            "nbconvert_exporter": "python", 
            "version": "3.6.8", 
            "name": "python", 
            "file_extension": ".py", 
            "pygments_lexer": "ipython3", 
            "codemirror_mode": {
                "version": 3, 
                "name": "ipython"
            }
        }
    }, 
    "nbformat": 4
}